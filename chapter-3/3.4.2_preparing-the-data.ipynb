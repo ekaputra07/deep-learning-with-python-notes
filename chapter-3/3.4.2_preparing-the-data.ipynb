{
 "cells": [
  {
   "cell_type": "markdown",
   "metadata": {},
   "source": [
    "### 3.4.2 Preparing the data"
   ]
  },
  {
   "cell_type": "markdown",
   "metadata": {},
   "source": [
    "We can't feed list of integers directly into neural network (NN).\n",
    "\n",
    "Let say our data is:\n",
    "```\n",
    "samples = [\n",
    "    [0,4,5],\n",
    "    [1,2,3,4,5],\n",
    "    [3,5,7,8]\n",
    "]\n",
    "```\n",
    "\n",
    "\n",
    "**Option 1: use Embedding layer**\n",
    "\n",
    "Pad list to have the same length, turn them into integer tensor with shape `(samples, words_indicies)`, then use **Embedding** layer as the first layer.\n",
    "\n",
    "Let say we pick the list length is 4, our data become:\n",
    "```\n",
    "samples = [\n",
    "    [0,4,5,-1], <-- -1 is the padding value\n",
    "    [1,2,3,4],  <-- we exclude the 5, to make it length 4\n",
    "    [3,5,7,8]   <-- do nothing\n",
    "]\n",
    "```\n",
    "\n",
    "\n",
    "**Option 2: use Dense layer**\n",
    "\n",
    "One-hot-encode our list into vectors of 1 and 0 with the same length. For example, if our data is `[3, 5]` and set vector length to 10, our vector values will be all 0s except for indices 3 and 5 which is 1s. Then we can use **Dense** layer as the first layer.\n",
    "\n",
    "Our data will become:\n",
    "```\n",
    "samples = [\n",
    "    [1,0,0,0,1,1,0,0,0,0], <-- [0,4,5]\n",
    "    [0,1,1,1,1,1,0,0,0,0], <-- [1,2,3,4,5]\n",
    "    [0,0,0,1,0,1,0,1,1,0]  <-- [3,4,7,8]\n",
    "]\n",
    "```"
   ]
  },
  {
   "cell_type": "code",
   "execution_count": 20,
   "metadata": {},
   "outputs": [],
   "source": [
    "# One-hot encoding example\n",
    "import numpy as np\n",
    "\n",
    "samples = [\n",
    "    [0,4,5],\n",
    "    [1,2,3,4,5],\n",
    "    [3,5,7,8]\n",
    "]\n",
    "\n",
    "def vectorize_samples(inputs, dimension=10):\n",
    "    results = np.zeros((len(inputs), dimension))\n",
    "    for i, s in enumerate(inputs):\n",
    "        \"\"\"\n",
    "        Note:\n",
    "        results[i, s] below will be like: results[i, [0,4,5]] = 1.0\n",
    "        if we want to make all values 1.0 then we can do: results[i, :] = 1.0\n",
    "        \"\"\"\n",
    "        results[i, s] = 1.0\n",
    "    return results"
   ]
  },
  {
   "cell_type": "code",
   "execution_count": 21,
   "metadata": {},
   "outputs": [
    {
     "data": {
      "text/plain": [
       "array([[1., 0., 0., 0., 1., 1., 0., 0., 0., 0.],\n",
       "       [0., 1., 1., 1., 1., 1., 0., 0., 0., 0.],\n",
       "       [0., 0., 0., 1., 0., 1., 0., 1., 1., 0.]])"
      ]
     },
     "execution_count": 21,
     "metadata": {},
     "output_type": "execute_result"
    }
   ],
   "source": [
    "vectorize_samples(samples, 10)"
   ]
  }
 ],
 "metadata": {
  "kernelspec": {
   "display_name": "Python 3",
   "language": "python",
   "name": "python3"
  },
  "language_info": {
   "codemirror_mode": {
    "name": "ipython",
    "version": 3
   },
   "file_extension": ".py",
   "mimetype": "text/x-python",
   "name": "python",
   "nbconvert_exporter": "python",
   "pygments_lexer": "ipython3",
   "version": "3.8.5"
  }
 },
 "nbformat": 4,
 "nbformat_minor": 4
}

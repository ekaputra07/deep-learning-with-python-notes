{
 "cells": [
  {
   "cell_type": "code",
   "execution_count": 58,
   "metadata": {},
   "outputs": [
    {
     "data": {
      "text/plain": [
       "array([   0,    0,    0,    0,    0,    0,    0,    0,    0,    0,    0,\n",
       "          0,    0,    0,    0,    0,    0,    0,    0,    0,    0,    0,\n",
       "          0,    0,    0,    0,    0,    0,    0,    0,    0,    0,    1,\n",
       "        591,  202,   14,   31,    6,  717,   10,   10,    2,    2,    5,\n",
       "          4,  360,    7,    4,  177, 5760,  394,  354,    4,  123,    9,\n",
       "       1035, 1035, 1035,   10,   10,   13,   92,  124,   89,  488, 7944,\n",
       "        100,   28, 1668,   14,   31,   23,   27, 7479,   29,  220,  468,\n",
       "          8,  124,   14,  286,  170,    8,  157,   46,    5,   27,  239,\n",
       "         16,  179,    2,   38,   32,   25, 7944,  451,  202,   14,    6,\n",
       "        717], dtype=int32)"
      ]
     },
     "execution_count": 58,
     "metadata": {},
     "output_type": "execute_result"
    }
   ],
   "source": [
    "from tensorflow.keras import datasets, layers, models, preprocessing\n",
    "import matplotlib.pyplot as plt\n",
    "\n",
    "%matplotlib inline\n",
    "\n",
    "max_features = 10000\n",
    "max_length = 100\n",
    "\n",
    "# load dataset\n",
    "(x_train, y_train), (x_test, y_test) = datasets.imdb.load_data(num_words=max_features)\n",
    "\n",
    "# pad sequences into fixed length\n",
    "x_train = preprocessing.sequence.pad_sequences(x_train, maxlen=max_length)\n",
    "x_test = preprocessing.sequence.pad_sequences(x_test, maxlen=max_length)\n",
    "\n",
    "x_test[0]"
   ]
  },
  {
   "cell_type": "code",
   "execution_count": 59,
   "metadata": {},
   "outputs": [],
   "source": [
    "# Build the model\n",
    "\n",
    "def get_model():\n",
    "    model = models.Sequential()\n",
    "    \n",
    "    # 8 = embedding dimension\n",
    "    model.add(layers.Embedding(max_features, 8, input_length=max_length))\n",
    "    \n",
    "    # flatten 3D tensors into 2D of shape (samples, max_length*8)\n",
    "    model.add(layers.Flatten())\n",
    "    model.add(layers.Dense(1, activation='sigmoid'))\n",
    "    model.compile(optimizer='rmsprop', loss='binary_crossentropy', metrics=['acc'])\n",
    "    model.summary()\n",
    "    return model"
   ]
  },
  {
   "cell_type": "code",
   "execution_count": 83,
   "metadata": {},
   "outputs": [
    {
     "name": "stdout",
     "output_type": "stream",
     "text": [
      "Model: \"sequential_18\"\n",
      "_________________________________________________________________\n",
      "Layer (type)                 Output Shape              Param #   \n",
      "=================================================================\n",
      "embedding_18 (Embedding)     (None, 100, 8)            80000     \n",
      "_________________________________________________________________\n",
      "flatten_18 (Flatten)         (None, 800)               0         \n",
      "_________________________________________________________________\n",
      "dense_18 (Dense)             (None, 1)                 801       \n",
      "=================================================================\n",
      "Total params: 80,801\n",
      "Trainable params: 80,801\n",
      "Non-trainable params: 0\n",
      "_________________________________________________________________\n",
      "Epoch 1/14\n",
      "40/40 [==============================] - 0s 5ms/step - loss: 0.6909 - acc: 0.5416 - val_loss: 0.6876 - val_acc: 0.5774\n",
      "Epoch 2/14\n",
      "40/40 [==============================] - 0s 3ms/step - loss: 0.6708 - acc: 0.7153 - val_loss: 0.6607 - val_acc: 0.7066\n",
      "Epoch 3/14\n",
      "40/40 [==============================] - 0s 3ms/step - loss: 0.6223 - acc: 0.7818 - val_loss: 0.6034 - val_acc: 0.7516\n",
      "Epoch 4/14\n",
      "40/40 [==============================] - 0s 3ms/step - loss: 0.5501 - acc: 0.8094 - val_loss: 0.5364 - val_acc: 0.7770\n",
      "Epoch 5/14\n",
      "40/40 [==============================] - 0s 3ms/step - loss: 0.4753 - acc: 0.8370 - val_loss: 0.4754 - val_acc: 0.7978\n",
      "Epoch 6/14\n",
      "40/40 [==============================] - 0s 3ms/step - loss: 0.4117 - acc: 0.8583 - val_loss: 0.4320 - val_acc: 0.8178\n",
      "Epoch 7/14\n",
      "40/40 [==============================] - 0s 3ms/step - loss: 0.3628 - acc: 0.8723 - val_loss: 0.3980 - val_acc: 0.8292\n",
      "Epoch 8/14\n",
      "40/40 [==============================] - 0s 3ms/step - loss: 0.3248 - acc: 0.8850 - val_loss: 0.3759 - val_acc: 0.8350\n",
      "Epoch 9/14\n",
      "40/40 [==============================] - 0s 3ms/step - loss: 0.2951 - acc: 0.8926 - val_loss: 0.3589 - val_acc: 0.8426\n",
      "Epoch 10/14\n",
      "40/40 [==============================] - 0s 3ms/step - loss: 0.2711 - acc: 0.9018 - val_loss: 0.3482 - val_acc: 0.8468\n",
      "Epoch 11/14\n",
      "40/40 [==============================] - 0s 3ms/step - loss: 0.2508 - acc: 0.9103 - val_loss: 0.3411 - val_acc: 0.8496\n",
      "Epoch 12/14\n",
      "40/40 [==============================] - 0s 3ms/step - loss: 0.2332 - acc: 0.9189 - val_loss: 0.3352 - val_acc: 0.8524\n",
      "Epoch 13/14\n",
      "40/40 [==============================] - 0s 3ms/step - loss: 0.2178 - acc: 0.9237 - val_loss: 0.3324 - val_acc: 0.8510\n",
      "Epoch 14/14\n",
      "40/40 [==============================] - 0s 3ms/step - loss: 0.2039 - acc: 0.9301 - val_loss: 0.3302 - val_acc: 0.8544\n"
     ]
    }
   ],
   "source": [
    "EPOCHS = 14\n",
    "m = get_model()\n",
    "history = m.fit(x_train, y_train, epochs=EPOCHS, batch_size=512, validation_split=0.2)"
   ]
  },
  {
   "cell_type": "code",
   "execution_count": 84,
   "metadata": {},
   "outputs": [],
   "source": [
    "train_loss = history.history['loss']\n",
    "val_loss = history.history['val_loss']\n",
    "\n",
    "train_acc = history.history['acc']\n",
    "val_acc = history.history['val_acc']"
   ]
  },
  {
   "cell_type": "code",
   "execution_count": 82,
   "metadata": {},
   "outputs": [
    {
     "data": {
      "image/png": "[encoded data removed]",
      "text/plain": [
       "<Figure size 432x288 with 1 Axes>"
      ]
     },
     "metadata": {
      "needs_background": "light"
     },
     "output_type": "display_data"
    },
    {
     "data": {
      "image/png": "[encoded data removed]",
      "text/plain": [
       "<Figure size 432x288 with 1 Axes>"
      ]
     },
     "metadata": {
      "needs_background": "light"
     },
     "output_type": "display_data"
    }
   ],
   "source": [
    "plt.plot(range(1, EPOCHS+1), train_loss, 'b', label='Training loss')\n",
    "plt.plot(range(1, EPOCHS+1), val_loss, 'bo', label='Validation loss')\n",
    "plt.xlabel('epochs') \n",
    "plt.ylabel('loss')\n",
    "plt.legend()\n",
    "plt.show()\n",
    "\n",
    "plt.plot(range(1, EPOCHS+1), train_acc, 'b', label='Training acc')\n",
    "plt.plot(range(1, EPOCHS+1), val_acc, 'bo', label='Validation acc')\n",
    "plt.xlabel('epochs') \n",
    "plt.ylabel('loss')\n",
    "plt.legend()\n",
    "plt.show()"
   ]
  },
  {
   "cell_type": "code",
   "execution_count": 79,
   "metadata": {},
   "outputs": [
    {
     "name": "stdout",
     "output_type": "stream",
     "text": [
      "782/782 [==============================] - 0s 383us/step - loss: 0.3527 - acc: 0.8459\n"
     ]
    },
    {
     "data": {
      "text/plain": [
       "[0.35269951820373535, 0.8458799719810486]"
      ]
     },
     "execution_count": 79,
     "metadata": {},
     "output_type": "execute_result"
    }
   ],
   "source": [
    "m.evaluate(x_test, y_test)"
   ]
  },
  {
   "cell_type": "code",
   "execution_count": null,
   "metadata": {},
   "outputs": [],
   "source": []
  }
 ],
 "metadata": {
  "kernelspec": {
   "display_name": "Python 3",
   "language": "python",
   "name": "python3"
  },
  "language_info": {
   "codemirror_mode": {
    "name": "ipython",
    "version": 3
   },
   "file_extension": ".py",
   "mimetype": "text/x-python",
   "name": "python",
   "nbconvert_exporter": "python",
   "pygments_lexer": "ipython3",
   "version": "3.8.5"
  }
 },
 "nbformat": 4,
 "nbformat_minor": 4
}
